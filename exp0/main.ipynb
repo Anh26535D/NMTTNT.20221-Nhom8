{
 "cells": [
  {
   "cell_type": "markdown",
   "metadata": {},
   "source": [
    "1. Import library"
   ]
  },
  {
   "cell_type": "code",
   "execution_count": 35,
   "metadata": {},
   "outputs": [],
   "source": [
    "import pandas as pd\n",
    "import numpy as np\n",
    "from sklearn.impute import SimpleImputer\n",
    "from sklearn.model_selection import train_test_split\n",
    "from sklearn.metrics import accuracy_score"
   ]
  },
  {
   "cell_type": "markdown",
   "metadata": {},
   "source": [
    "2. Import data"
   ]
  },
  {
   "cell_type": "code",
   "execution_count": 36,
   "metadata": {},
   "outputs": [
    {
     "data": {
      "text/html": [
       "<div>\n",
       "<style scoped>\n",
       "    .dataframe tbody tr th:only-of-type {\n",
       "        vertical-align: middle;\n",
       "    }\n",
       "\n",
       "    .dataframe tbody tr th {\n",
       "        vertical-align: top;\n",
       "    }\n",
       "\n",
       "    .dataframe thead th {\n",
       "        text-align: right;\n",
       "    }\n",
       "</style>\n",
       "<table border=\"1\" class=\"dataframe\">\n",
       "  <thead>\n",
       "    <tr style=\"text-align: right;\">\n",
       "      <th></th>\n",
       "      <th>AccountID</th>\n",
       "      <th>Churn</th>\n",
       "      <th>Tenure</th>\n",
       "      <th>City_Tier</th>\n",
       "      <th>CC_Contacted_LY</th>\n",
       "      <th>Payment</th>\n",
       "      <th>Gender</th>\n",
       "      <th>Service_Score</th>\n",
       "      <th>Account_user_count</th>\n",
       "      <th>account_segment</th>\n",
       "      <th>CC_Agent_Score</th>\n",
       "      <th>Marital_Status</th>\n",
       "      <th>rev_per_month</th>\n",
       "      <th>Complain_ly</th>\n",
       "      <th>rev_growth_yoy</th>\n",
       "      <th>coupon_used_for_payment</th>\n",
       "      <th>Day_Since_CC_connect</th>\n",
       "      <th>cashback</th>\n",
       "      <th>Login_device</th>\n",
       "    </tr>\n",
       "  </thead>\n",
       "  <tbody>\n",
       "    <tr>\n",
       "      <th>0</th>\n",
       "      <td>30200</td>\n",
       "      <td>0</td>\n",
       "      <td>4</td>\n",
       "      <td>1.0</td>\n",
       "      <td>11.0</td>\n",
       "      <td>Debit Card</td>\n",
       "      <td>Female</td>\n",
       "      <td>3.0</td>\n",
       "      <td>6</td>\n",
       "      <td>Super</td>\n",
       "      <td>1.0</td>\n",
       "      <td>Single</td>\n",
       "      <td>5</td>\n",
       "      <td>0.0</td>\n",
       "      <td>23</td>\n",
       "      <td>2</td>\n",
       "      <td>3</td>\n",
       "      <td>187</td>\n",
       "      <td>Mobile</td>\n",
       "    </tr>\n",
       "    <tr>\n",
       "      <th>1</th>\n",
       "      <td>29159</td>\n",
       "      <td>0</td>\n",
       "      <td>16</td>\n",
       "      <td>3.0</td>\n",
       "      <td>18.0</td>\n",
       "      <td>E wallet</td>\n",
       "      <td>Male</td>\n",
       "      <td>3.0</td>\n",
       "      <td>4</td>\n",
       "      <td>Super</td>\n",
       "      <td>5.0</td>\n",
       "      <td>NaN</td>\n",
       "      <td>11</td>\n",
       "      <td>0.0</td>\n",
       "      <td>16</td>\n",
       "      <td>2</td>\n",
       "      <td>6</td>\n",
       "      <td>179</td>\n",
       "      <td>Mobile</td>\n",
       "    </tr>\n",
       "    <tr>\n",
       "      <th>2</th>\n",
       "      <td>24778</td>\n",
       "      <td>0</td>\n",
       "      <td>1</td>\n",
       "      <td>1.0</td>\n",
       "      <td>9.0</td>\n",
       "      <td>Credit Card</td>\n",
       "      <td>Male</td>\n",
       "      <td>4.0</td>\n",
       "      <td>2</td>\n",
       "      <td>Regular Plus</td>\n",
       "      <td>5.0</td>\n",
       "      <td>Single</td>\n",
       "      <td>9</td>\n",
       "      <td>0.0</td>\n",
       "      <td>14</td>\n",
       "      <td>1</td>\n",
       "      <td>2</td>\n",
       "      <td>159</td>\n",
       "      <td>Mobile</td>\n",
       "    </tr>\n",
       "    <tr>\n",
       "      <th>3</th>\n",
       "      <td>22432</td>\n",
       "      <td>0</td>\n",
       "      <td>7</td>\n",
       "      <td>3.0</td>\n",
       "      <td>13.0</td>\n",
       "      <td>Cash on Delivery</td>\n",
       "      <td>Male</td>\n",
       "      <td>2.0</td>\n",
       "      <td>3</td>\n",
       "      <td>Regular Plus</td>\n",
       "      <td>3.0</td>\n",
       "      <td>Married</td>\n",
       "      <td>1</td>\n",
       "      <td>1.0</td>\n",
       "      <td>25</td>\n",
       "      <td>3</td>\n",
       "      <td>7</td>\n",
       "      <td>123</td>\n",
       "      <td>Mobile</td>\n",
       "    </tr>\n",
       "    <tr>\n",
       "      <th>4</th>\n",
       "      <td>26149</td>\n",
       "      <td>0</td>\n",
       "      <td>4</td>\n",
       "      <td>1.0</td>\n",
       "      <td>21.0</td>\n",
       "      <td>Debit Card</td>\n",
       "      <td>Male</td>\n",
       "      <td>2.0</td>\n",
       "      <td>3</td>\n",
       "      <td>Regular Plus</td>\n",
       "      <td>2.0</td>\n",
       "      <td>Divorced</td>\n",
       "      <td>4</td>\n",
       "      <td>1.0</td>\n",
       "      <td>19</td>\n",
       "      <td>1</td>\n",
       "      <td>2</td>\n",
       "      <td>125</td>\n",
       "      <td>Mobile</td>\n",
       "    </tr>\n",
       "  </tbody>\n",
       "</table>\n",
       "</div>"
      ],
      "text/plain": [
       "   AccountID  Churn Tenure  City_Tier  CC_Contacted_LY           Payment  \\\n",
       "0      30200      0      4        1.0             11.0        Debit Card   \n",
       "1      29159      0     16        3.0             18.0          E wallet   \n",
       "2      24778      0      1        1.0              9.0       Credit Card   \n",
       "3      22432      0      7        3.0             13.0  Cash on Delivery   \n",
       "4      26149      0      4        1.0             21.0        Debit Card   \n",
       "\n",
       "   Gender  Service_Score Account_user_count account_segment  CC_Agent_Score  \\\n",
       "0  Female            3.0                  6           Super             1.0   \n",
       "1    Male            3.0                  4           Super             5.0   \n",
       "2    Male            4.0                  2    Regular Plus             5.0   \n",
       "3    Male            2.0                  3    Regular Plus             3.0   \n",
       "4    Male            2.0                  3    Regular Plus             2.0   \n",
       "\n",
       "  Marital_Status rev_per_month  Complain_ly rev_growth_yoy  \\\n",
       "0         Single             5          0.0             23   \n",
       "1            NaN            11          0.0             16   \n",
       "2         Single             9          0.0             14   \n",
       "3        Married             1          1.0             25   \n",
       "4       Divorced             4          1.0             19   \n",
       "\n",
       "  coupon_used_for_payment Day_Since_CC_connect cashback Login_device  \n",
       "0                       2                    3      187       Mobile  \n",
       "1                       2                    6      179       Mobile  \n",
       "2                       1                    2      159       Mobile  \n",
       "3                       3                    7      123       Mobile  \n",
       "4                       1                    2      125       Mobile  "
      ]
     },
     "execution_count": 36,
     "metadata": {},
     "output_type": "execute_result"
    }
   ],
   "source": [
    "df = pd.read_csv('../train.csv')\n",
    "df.head()"
   ]
  },
  {
   "cell_type": "code",
   "execution_count": 37,
   "metadata": {},
   "outputs": [],
   "source": [
    "new_df = df.drop(['AccountID'], axis= 1)"
   ]
  },
  {
   "cell_type": "code",
   "execution_count": 38,
   "metadata": {},
   "outputs": [],
   "source": [
    "labels = new_df['Churn']\n",
    "customers = new_df.drop('Churn', axis='columns')"
   ]
  },
  {
   "cell_type": "code",
   "execution_count": 39,
   "metadata": {},
   "outputs": [
    {
     "data": {
      "text/html": [
       "<div>\n",
       "<style scoped>\n",
       "    .dataframe tbody tr th:only-of-type {\n",
       "        vertical-align: middle;\n",
       "    }\n",
       "\n",
       "    .dataframe tbody tr th {\n",
       "        vertical-align: top;\n",
       "    }\n",
       "\n",
       "    .dataframe thead th {\n",
       "        text-align: right;\n",
       "    }\n",
       "</style>\n",
       "<table border=\"1\" class=\"dataframe\">\n",
       "  <thead>\n",
       "    <tr style=\"text-align: right;\">\n",
       "      <th></th>\n",
       "      <th>Tenure</th>\n",
       "      <th>City_Tier</th>\n",
       "      <th>CC_Contacted_LY</th>\n",
       "      <th>Payment</th>\n",
       "      <th>Gender</th>\n",
       "      <th>Service_Score</th>\n",
       "      <th>Account_user_count</th>\n",
       "      <th>account_segment</th>\n",
       "      <th>CC_Agent_Score</th>\n",
       "      <th>Marital_Status</th>\n",
       "      <th>rev_per_month</th>\n",
       "      <th>Complain_ly</th>\n",
       "      <th>rev_growth_yoy</th>\n",
       "      <th>coupon_used_for_payment</th>\n",
       "      <th>Day_Since_CC_connect</th>\n",
       "      <th>cashback</th>\n",
       "      <th>Login_device</th>\n",
       "    </tr>\n",
       "  </thead>\n",
       "  <tbody>\n",
       "    <tr>\n",
       "      <th>0</th>\n",
       "      <td>4</td>\n",
       "      <td>1.0</td>\n",
       "      <td>11.0</td>\n",
       "      <td>Debit Card</td>\n",
       "      <td>Female</td>\n",
       "      <td>3.0</td>\n",
       "      <td>6</td>\n",
       "      <td>Super</td>\n",
       "      <td>1.0</td>\n",
       "      <td>Single</td>\n",
       "      <td>5</td>\n",
       "      <td>0.0</td>\n",
       "      <td>23</td>\n",
       "      <td>2</td>\n",
       "      <td>3</td>\n",
       "      <td>187</td>\n",
       "      <td>Mobile</td>\n",
       "    </tr>\n",
       "    <tr>\n",
       "      <th>1</th>\n",
       "      <td>16</td>\n",
       "      <td>3.0</td>\n",
       "      <td>18.0</td>\n",
       "      <td>E wallet</td>\n",
       "      <td>Male</td>\n",
       "      <td>3.0</td>\n",
       "      <td>4</td>\n",
       "      <td>Super</td>\n",
       "      <td>5.0</td>\n",
       "      <td>NaN</td>\n",
       "      <td>11</td>\n",
       "      <td>0.0</td>\n",
       "      <td>16</td>\n",
       "      <td>2</td>\n",
       "      <td>6</td>\n",
       "      <td>179</td>\n",
       "      <td>Mobile</td>\n",
       "    </tr>\n",
       "    <tr>\n",
       "      <th>2</th>\n",
       "      <td>1</td>\n",
       "      <td>1.0</td>\n",
       "      <td>9.0</td>\n",
       "      <td>Credit Card</td>\n",
       "      <td>Male</td>\n",
       "      <td>4.0</td>\n",
       "      <td>2</td>\n",
       "      <td>Regular Plus</td>\n",
       "      <td>5.0</td>\n",
       "      <td>Single</td>\n",
       "      <td>9</td>\n",
       "      <td>0.0</td>\n",
       "      <td>14</td>\n",
       "      <td>1</td>\n",
       "      <td>2</td>\n",
       "      <td>159</td>\n",
       "      <td>Mobile</td>\n",
       "    </tr>\n",
       "    <tr>\n",
       "      <th>3</th>\n",
       "      <td>7</td>\n",
       "      <td>3.0</td>\n",
       "      <td>13.0</td>\n",
       "      <td>Cash on Delivery</td>\n",
       "      <td>Male</td>\n",
       "      <td>2.0</td>\n",
       "      <td>3</td>\n",
       "      <td>Regular Plus</td>\n",
       "      <td>3.0</td>\n",
       "      <td>Married</td>\n",
       "      <td>1</td>\n",
       "      <td>1.0</td>\n",
       "      <td>25</td>\n",
       "      <td>3</td>\n",
       "      <td>7</td>\n",
       "      <td>123</td>\n",
       "      <td>Mobile</td>\n",
       "    </tr>\n",
       "    <tr>\n",
       "      <th>4</th>\n",
       "      <td>4</td>\n",
       "      <td>1.0</td>\n",
       "      <td>21.0</td>\n",
       "      <td>Debit Card</td>\n",
       "      <td>Male</td>\n",
       "      <td>2.0</td>\n",
       "      <td>3</td>\n",
       "      <td>Regular Plus</td>\n",
       "      <td>2.0</td>\n",
       "      <td>Divorced</td>\n",
       "      <td>4</td>\n",
       "      <td>1.0</td>\n",
       "      <td>19</td>\n",
       "      <td>1</td>\n",
       "      <td>2</td>\n",
       "      <td>125</td>\n",
       "      <td>Mobile</td>\n",
       "    </tr>\n",
       "    <tr>\n",
       "      <th>5</th>\n",
       "      <td>0</td>\n",
       "      <td>1.0</td>\n",
       "      <td>16.0</td>\n",
       "      <td>Credit Card</td>\n",
       "      <td>Male</td>\n",
       "      <td>2.0</td>\n",
       "      <td>3</td>\n",
       "      <td>Regular Plus</td>\n",
       "      <td>3.0</td>\n",
       "      <td>Single</td>\n",
       "      <td>2</td>\n",
       "      <td>1.0</td>\n",
       "      <td>11</td>\n",
       "      <td>0</td>\n",
       "      <td>1</td>\n",
       "      <td>110</td>\n",
       "      <td>Mobile</td>\n",
       "    </tr>\n",
       "    <tr>\n",
       "      <th>6</th>\n",
       "      <td>28</td>\n",
       "      <td>3.0</td>\n",
       "      <td>11.0</td>\n",
       "      <td>Debit Card</td>\n",
       "      <td>Female</td>\n",
       "      <td>3.0</td>\n",
       "      <td>5</td>\n",
       "      <td>HNI</td>\n",
       "      <td>3.0</td>\n",
       "      <td>Married</td>\n",
       "      <td>137</td>\n",
       "      <td>0.0</td>\n",
       "      <td>13</td>\n",
       "      <td>7</td>\n",
       "      <td>1</td>\n",
       "      <td>238</td>\n",
       "      <td>Mobile</td>\n",
       "    </tr>\n",
       "    <tr>\n",
       "      <th>7</th>\n",
       "      <td>17</td>\n",
       "      <td>1.0</td>\n",
       "      <td>26.0</td>\n",
       "      <td>Debit Card</td>\n",
       "      <td>Male</td>\n",
       "      <td>2.0</td>\n",
       "      <td>3</td>\n",
       "      <td>Regular Plus</td>\n",
       "      <td>4.0</td>\n",
       "      <td>Single</td>\n",
       "      <td>2</td>\n",
       "      <td>0.0</td>\n",
       "      <td>13</td>\n",
       "      <td>1</td>\n",
       "      <td>3</td>\n",
       "      <td>134</td>\n",
       "      <td>Mobile</td>\n",
       "    </tr>\n",
       "    <tr>\n",
       "      <th>8</th>\n",
       "      <td>29</td>\n",
       "      <td>1.0</td>\n",
       "      <td>28.0</td>\n",
       "      <td>Credit Card</td>\n",
       "      <td>Male</td>\n",
       "      <td>4.0</td>\n",
       "      <td>2</td>\n",
       "      <td>Regular</td>\n",
       "      <td>4.0</td>\n",
       "      <td>Single</td>\n",
       "      <td>13</td>\n",
       "      <td>0.0</td>\n",
       "      <td>12</td>\n",
       "      <td>3</td>\n",
       "      <td>16</td>\n",
       "      <td>NaN</td>\n",
       "      <td>Mobile</td>\n",
       "    </tr>\n",
       "    <tr>\n",
       "      <th>9</th>\n",
       "      <td>27</td>\n",
       "      <td>1.0</td>\n",
       "      <td>10.0</td>\n",
       "      <td>Credit Card</td>\n",
       "      <td>Male</td>\n",
       "      <td>3.0</td>\n",
       "      <td>4</td>\n",
       "      <td>Super Plus</td>\n",
       "      <td>3.0</td>\n",
       "      <td>Divorced</td>\n",
       "      <td>5</td>\n",
       "      <td>1.0</td>\n",
       "      <td>17</td>\n",
       "      <td>1</td>\n",
       "      <td>4</td>\n",
       "      <td>301</td>\n",
       "      <td>Mobile</td>\n",
       "    </tr>\n",
       "  </tbody>\n",
       "</table>\n",
       "</div>"
      ],
      "text/plain": [
       "  Tenure  City_Tier  CC_Contacted_LY           Payment  Gender  Service_Score  \\\n",
       "0      4        1.0             11.0        Debit Card  Female            3.0   \n",
       "1     16        3.0             18.0          E wallet    Male            3.0   \n",
       "2      1        1.0              9.0       Credit Card    Male            4.0   \n",
       "3      7        3.0             13.0  Cash on Delivery    Male            2.0   \n",
       "4      4        1.0             21.0        Debit Card    Male            2.0   \n",
       "5      0        1.0             16.0       Credit Card    Male            2.0   \n",
       "6     28        3.0             11.0        Debit Card  Female            3.0   \n",
       "7     17        1.0             26.0        Debit Card    Male            2.0   \n",
       "8     29        1.0             28.0       Credit Card    Male            4.0   \n",
       "9     27        1.0             10.0       Credit Card    Male            3.0   \n",
       "\n",
       "  Account_user_count account_segment  CC_Agent_Score Marital_Status  \\\n",
       "0                  6           Super             1.0         Single   \n",
       "1                  4           Super             5.0            NaN   \n",
       "2                  2    Regular Plus             5.0         Single   \n",
       "3                  3    Regular Plus             3.0        Married   \n",
       "4                  3    Regular Plus             2.0       Divorced   \n",
       "5                  3    Regular Plus             3.0         Single   \n",
       "6                  5             HNI             3.0        Married   \n",
       "7                  3    Regular Plus             4.0         Single   \n",
       "8                  2         Regular             4.0         Single   \n",
       "9                  4      Super Plus             3.0       Divorced   \n",
       "\n",
       "  rev_per_month  Complain_ly rev_growth_yoy coupon_used_for_payment  \\\n",
       "0             5          0.0             23                       2   \n",
       "1            11          0.0             16                       2   \n",
       "2             9          0.0             14                       1   \n",
       "3             1          1.0             25                       3   \n",
       "4             4          1.0             19                       1   \n",
       "5             2          1.0             11                       0   \n",
       "6           137          0.0             13                       7   \n",
       "7             2          0.0             13                       1   \n",
       "8            13          0.0             12                       3   \n",
       "9             5          1.0             17                       1   \n",
       "\n",
       "  Day_Since_CC_connect cashback Login_device  \n",
       "0                    3      187       Mobile  \n",
       "1                    6      179       Mobile  \n",
       "2                    2      159       Mobile  \n",
       "3                    7      123       Mobile  \n",
       "4                    2      125       Mobile  \n",
       "5                    1      110       Mobile  \n",
       "6                    1      238       Mobile  \n",
       "7                    3      134       Mobile  \n",
       "8                   16      NaN       Mobile  \n",
       "9                    4      301       Mobile  "
      ]
     },
     "execution_count": 39,
     "metadata": {},
     "output_type": "execute_result"
    }
   ],
   "source": [
    "customers.head(10)"
   ]
  },
  {
   "cell_type": "code",
   "execution_count": 40,
   "metadata": {},
   "outputs": [
    {
     "data": {
      "text/plain": [
       "(9008, 17)"
      ]
     },
     "execution_count": 40,
     "metadata": {},
     "output_type": "execute_result"
    }
   ],
   "source": [
    "customers.shape"
   ]
  },
  {
   "cell_type": "code",
   "execution_count": 41,
   "metadata": {},
   "outputs": [
    {
     "data": {
      "text/plain": [
       "0    0\n",
       "1    0\n",
       "2    0\n",
       "3    0\n",
       "4    0\n",
       "Name: Churn, dtype: int64"
      ]
     },
     "execution_count": 41,
     "metadata": {},
     "output_type": "execute_result"
    }
   ],
   "source": [
    "labels.head()"
   ]
  },
  {
   "cell_type": "code",
   "execution_count": 42,
   "metadata": {},
   "outputs": [
    {
     "data": {
      "text/plain": [
       "(9008,)"
      ]
     },
     "execution_count": 42,
     "metadata": {},
     "output_type": "execute_result"
    }
   ],
   "source": [
    "labels.shape"
   ]
  },
  {
   "cell_type": "code",
   "execution_count": 43,
   "metadata": {},
   "outputs": [
    {
     "data": {
      "text/html": [
       "<div>\n",
       "<style scoped>\n",
       "    .dataframe tbody tr th:only-of-type {\n",
       "        vertical-align: middle;\n",
       "    }\n",
       "\n",
       "    .dataframe tbody tr th {\n",
       "        vertical-align: top;\n",
       "    }\n",
       "\n",
       "    .dataframe thead th {\n",
       "        text-align: right;\n",
       "    }\n",
       "</style>\n",
       "<table border=\"1\" class=\"dataframe\">\n",
       "  <thead>\n",
       "    <tr style=\"text-align: right;\">\n",
       "      <th></th>\n",
       "      <th>City_Tier</th>\n",
       "      <th>CC_Contacted_LY</th>\n",
       "      <th>Service_Score</th>\n",
       "      <th>CC_Agent_Score</th>\n",
       "      <th>Complain_ly</th>\n",
       "    </tr>\n",
       "  </thead>\n",
       "  <tbody>\n",
       "    <tr>\n",
       "      <th>count</th>\n",
       "      <td>8913.000000</td>\n",
       "      <td>8922.000000</td>\n",
       "      <td>8932.000000</td>\n",
       "      <td>8918.000000</td>\n",
       "      <td>8713.000000</td>\n",
       "    </tr>\n",
       "    <tr>\n",
       "      <th>mean</th>\n",
       "      <td>1.650623</td>\n",
       "      <td>17.861018</td>\n",
       "      <td>2.901142</td>\n",
       "      <td>3.054160</td>\n",
       "      <td>0.281992</td>\n",
       "    </tr>\n",
       "    <tr>\n",
       "      <th>std</th>\n",
       "      <td>0.914061</td>\n",
       "      <td>8.780792</td>\n",
       "      <td>0.722629</td>\n",
       "      <td>1.383056</td>\n",
       "      <td>0.449995</td>\n",
       "    </tr>\n",
       "    <tr>\n",
       "      <th>min</th>\n",
       "      <td>1.000000</td>\n",
       "      <td>4.000000</td>\n",
       "      <td>0.000000</td>\n",
       "      <td>1.000000</td>\n",
       "      <td>0.000000</td>\n",
       "    </tr>\n",
       "    <tr>\n",
       "      <th>25%</th>\n",
       "      <td>1.000000</td>\n",
       "      <td>11.000000</td>\n",
       "      <td>2.000000</td>\n",
       "      <td>2.000000</td>\n",
       "      <td>0.000000</td>\n",
       "    </tr>\n",
       "    <tr>\n",
       "      <th>50%</th>\n",
       "      <td>1.000000</td>\n",
       "      <td>16.000000</td>\n",
       "      <td>3.000000</td>\n",
       "      <td>3.000000</td>\n",
       "      <td>0.000000</td>\n",
       "    </tr>\n",
       "    <tr>\n",
       "      <th>75%</th>\n",
       "      <td>3.000000</td>\n",
       "      <td>23.000000</td>\n",
       "      <td>3.000000</td>\n",
       "      <td>4.000000</td>\n",
       "      <td>1.000000</td>\n",
       "    </tr>\n",
       "    <tr>\n",
       "      <th>max</th>\n",
       "      <td>3.000000</td>\n",
       "      <td>129.000000</td>\n",
       "      <td>5.000000</td>\n",
       "      <td>5.000000</td>\n",
       "      <td>1.000000</td>\n",
       "    </tr>\n",
       "  </tbody>\n",
       "</table>\n",
       "</div>"
      ],
      "text/plain": [
       "         City_Tier  CC_Contacted_LY  Service_Score  CC_Agent_Score  \\\n",
       "count  8913.000000      8922.000000    8932.000000     8918.000000   \n",
       "mean      1.650623        17.861018       2.901142        3.054160   \n",
       "std       0.914061         8.780792       0.722629        1.383056   \n",
       "min       1.000000         4.000000       0.000000        1.000000   \n",
       "25%       1.000000        11.000000       2.000000        2.000000   \n",
       "50%       1.000000        16.000000       3.000000        3.000000   \n",
       "75%       3.000000        23.000000       3.000000        4.000000   \n",
       "max       3.000000       129.000000       5.000000        5.000000   \n",
       "\n",
       "       Complain_ly  \n",
       "count  8713.000000  \n",
       "mean      0.281992  \n",
       "std       0.449995  \n",
       "min       0.000000  \n",
       "25%       0.000000  \n",
       "50%       0.000000  \n",
       "75%       1.000000  \n",
       "max       1.000000  "
      ]
     },
     "execution_count": 43,
     "metadata": {},
     "output_type": "execute_result"
    }
   ],
   "source": [
    "customers.describe()"
   ]
  },
  {
   "cell_type": "code",
   "execution_count": 44,
   "metadata": {},
   "outputs": [
    {
     "name": "stdout",
     "output_type": "stream",
     "text": [
      "<class 'pandas.core.frame.DataFrame'>\n",
      "RangeIndex: 9008 entries, 0 to 9007\n",
      "Data columns (total 17 columns):\n",
      " #   Column                   Non-Null Count  Dtype  \n",
      "---  ------                   --------------  -----  \n",
      " 0   Tenure                   8931 non-null   object \n",
      " 1   City_Tier                8913 non-null   float64\n",
      " 2   CC_Contacted_LY          8922 non-null   float64\n",
      " 3   Payment                  8917 non-null   object \n",
      " 4   Gender                   8924 non-null   object \n",
      " 5   Service_Score            8932 non-null   float64\n",
      " 6   Account_user_count       8923 non-null   object \n",
      " 7   account_segment          8937 non-null   object \n",
      " 8   CC_Agent_Score           8918 non-null   float64\n",
      " 9   Marital_Status           8836 non-null   object \n",
      " 10  rev_per_month            8930 non-null   object \n",
      " 11  Complain_ly              8713 non-null   float64\n",
      " 12  rev_growth_yoy           9008 non-null   object \n",
      " 13  coupon_used_for_payment  9008 non-null   object \n",
      " 14  Day_Since_CC_connect     8726 non-null   object \n",
      " 15  cashback                 8630 non-null   object \n",
      " 16  Login_device             8835 non-null   object \n",
      "dtypes: float64(5), object(12)\n",
      "memory usage: 1.2+ MB\n"
     ]
    }
   ],
   "source": [
    "customers.info()"
   ]
  },
  {
   "cell_type": "markdown",
   "metadata": {},
   "source": [
    "3. Missing and Inconsistent value treament"
   ]
  },
  {
   "cell_type": "markdown",
   "metadata": {},
   "source": [
    "3.2. Inconsistent value treament"
   ]
  },
  {
   "cell_type": "code",
   "execution_count": 45,
   "metadata": {},
   "outputs": [],
   "source": [
    "customers['Gender'] = customers['Gender'].replace('F', 'Female')\n",
    "customers['Gender'] = customers['Gender'].replace('M', 'Male')\n",
    "customers['account_segment'] = customers['account_segment'].replace('Super +', 'Super Plus')\n",
    "customers['account_segment'] = customers['account_segment'].replace('Regular +', 'Regular Plus')"
   ]
  },
  {
   "cell_type": "markdown",
   "metadata": {},
   "source": [
    "3.1. Replace specific character to NaN\n"
   ]
  },
  {
   "cell_type": "code",
   "execution_count": 46,
   "metadata": {},
   "outputs": [],
   "source": [
    "customers['Tenure'] = customers['Tenure'].replace('#', np.nan)\n",
    "customers['Account_user_count'] = customers['Account_user_count'].replace('@', np.nan)\n",
    "customers['rev_per_month'] = customers['rev_per_month'].replace('+', np.nan)\n",
    "customers['rev_growth_yoy'] = customers['rev_growth_yoy'].replace('$', np.nan)\n",
    "customers['coupon_used_for_payment'] = customers['coupon_used_for_payment'].replace('#', np.nan)\n",
    "customers['coupon_used_for_payment'] = customers['coupon_used_for_payment'].replace('$', np.nan)\n",
    "customers['coupon_used_for_payment'] = customers['coupon_used_for_payment'].replace('*', np.nan)\n",
    "customers['cashback'] = customers['cashback'].replace('$', np.nan)\n",
    "customers['Day_Since_CC_connect'] = customers['Day_Since_CC_connect'].replace('$', np.nan)\n",
    "customers['Login_device'] = customers['Login_device'].replace('&&&&', 'Unknown')"
   ]
  },
  {
   "cell_type": "code",
   "execution_count": 47,
   "metadata": {},
   "outputs": [
    {
     "data": {
      "text/plain": [
       "Tenure                     169\n",
       "City_Tier                   95\n",
       "CC_Contacted_LY             86\n",
       "Payment                     91\n",
       "Gender                      84\n",
       "Service_Score               76\n",
       "Account_user_count         347\n",
       "account_segment             71\n",
       "CC_Agent_Score              90\n",
       "Marital_Status             172\n",
       "rev_per_month              635\n",
       "Complain_ly                295\n",
       "rev_growth_yoy               3\n",
       "coupon_used_for_payment      2\n",
       "Day_Since_CC_connect       283\n",
       "cashback                   379\n",
       "Login_device               173\n",
       "dtype: int64"
      ]
     },
     "execution_count": 47,
     "metadata": {},
     "output_type": "execute_result"
    }
   ],
   "source": [
    "customers.isnull().sum()\n"
   ]
  },
  {
   "cell_type": "code",
   "execution_count": 48,
   "metadata": {},
   "outputs": [
    {
     "data": {
      "text/plain": [
       "Index(['Tenure', 'City_Tier', 'CC_Contacted_LY', 'Payment', 'Gender',\n",
       "       'Service_Score', 'Account_user_count', 'account_segment',\n",
       "       'CC_Agent_Score', 'Marital_Status', 'rev_per_month', 'Complain_ly',\n",
       "       'rev_growth_yoy', 'coupon_used_for_payment', 'Day_Since_CC_connect',\n",
       "       'cashback', 'Login_device'],\n",
       "      dtype='object')"
      ]
     },
     "execution_count": 48,
     "metadata": {},
     "output_type": "execute_result"
    }
   ],
   "source": [
    "customers.columns"
   ]
  },
  {
   "cell_type": "code",
   "execution_count": 49,
   "metadata": {},
   "outputs": [],
   "source": [
    "missing_value_cols = ['Tenure', 'City_Tier', 'CC_Contacted_LY', 'Payment','Gender', 'Service_Score', 'Account_user_count', 'account_segment','CC_Agent_Score', 'Marital_Status', 'rev_per_month', 'Complain_ly','rev_growth_yoy', 'coupon_used_for_payment', 'Day_Since_CC_connect', 'cashback', 'Login_device']\n"
   ]
  },
  {
   "cell_type": "code",
   "execution_count": 50,
   "metadata": {},
   "outputs": [],
   "source": [
    "_imputer = SimpleImputer(strategy=\"most_frequent\")"
   ]
  },
  {
   "cell_type": "code",
   "execution_count": 51,
   "metadata": {},
   "outputs": [],
   "source": [
    "customers[missing_value_cols] = _imputer.fit_transform(customers[missing_value_cols])"
   ]
  },
  {
   "cell_type": "code",
   "execution_count": 52,
   "metadata": {},
   "outputs": [
    {
     "data": {
      "text/plain": [
       "Tenure                     0\n",
       "City_Tier                  0\n",
       "CC_Contacted_LY            0\n",
       "Payment                    0\n",
       "Gender                     0\n",
       "Service_Score              0\n",
       "Account_user_count         0\n",
       "account_segment            0\n",
       "CC_Agent_Score             0\n",
       "Marital_Status             0\n",
       "rev_per_month              0\n",
       "Complain_ly                0\n",
       "rev_growth_yoy             0\n",
       "coupon_used_for_payment    0\n",
       "Day_Since_CC_connect       0\n",
       "cashback                   0\n",
       "Login_device               0\n",
       "dtype: int64"
      ]
     },
     "execution_count": 52,
     "metadata": {},
     "output_type": "execute_result"
    }
   ],
   "source": [
    "customers.isnull().sum()"
   ]
  },
  {
   "cell_type": "markdown",
   "metadata": {},
   "source": [
    "4. Wrong datatype treament"
   ]
  },
  {
   "cell_type": "code",
   "execution_count": 53,
   "metadata": {},
   "outputs": [
    {
     "name": "stdout",
     "output_type": "stream",
     "text": [
      "Tenure: ['4' '16' '1' '7' '0' '28' '17' '29' '27' '11' '13' '9' '8' '15' '5' '24'\n",
      " '12' '10' '30' '3' '99' '6' '18' '25' '2' '14' '23' '20' '19' '26' '22'\n",
      " '31' '21' '51' '50' '61']\n",
      "City_Tier: [1.0 3.0 2.0]\n",
      "CC_Contacted_LY: [11.0 18.0 9.0 13.0 21.0 16.0 26.0 28.0 10.0 14.0 36.0 34.0 17.0 20.0 25.0\n",
      " 27.0 41.0 12.0 33.0 29.0 35.0 8.0 15.0 32.0 30.0 22.0 6.0 19.0 37.0 23.0\n",
      " 31.0 39.0 24.0 7.0 42.0 5.0 40.0 38.0 43.0 127.0 4.0 129.0]\n",
      "Payment: ['Debit Card' 'E wallet' 'Credit Card' 'Cash on Delivery' 'UPI']\n",
      "Gender: ['Female' 'Male']\n",
      "Service_Score: [3.0 4.0 2.0 1.0 5.0 0.0]\n",
      "Account_user_count: ['6' '4' '2' '3' '5' '1']\n",
      "account_segment: ['Super' 'Regular Plus' 'HNI' 'Regular' 'Super Plus']\n",
      "CC_Agent_Score: [1.0 5.0 3.0 2.0 4.0]\n",
      "Marital_Status: ['Single' 'Married' 'Divorced']\n",
      "rev_per_month: ['5' '11' '9' '1' '4' '2' '137' '13' '8' '12' '3' '7' '6' '10' '134' '136'\n",
      " '15' '138' '107' '108' '14' '131' '105' '120' '127' '123' '129' '140'\n",
      " '133' '126' '124' '21' '113' '102' '119' '22' '117' '100' '121' '118'\n",
      " '20' '139' '122' '115' '101' '110' '130' '116' '103' '125' '114' '19'\n",
      " '111' '23']\n",
      "Complain_ly: [0.0 1.0]\n",
      "rev_growth_yoy: ['23' '16' '14' '25' '19' '11' '13' '12' '17' '18' '15' '22' '24' '20'\n",
      " '21' '27' '26' '28' '4']\n",
      "coupon_used_for_payment: ['2' '1' '3' '0' '7' '4' '8' '16' '6' '5' '9' '11' '14' '10' '13' '12'\n",
      " '15']\n",
      "Day_Since_CC_connect: ['3' '6' '2' '7' '1' '16' '4' '0' '8' '5' '11' '9' '10' '31' '12' '18'\n",
      " '13' '17' '15' '14' '46' '30' '47']\n",
      "cashback: ['187' '179' '159' '123' '125' '110' '238' '134' '148' '301' '124' '174'\n",
      " '168' '176' '131' '166' '172' '198' '127' '157' '167' '297' '208' '128'\n",
      " '150' '218' '142' '205' '163' '181' '190' '175' '295' '154' '156' '225'\n",
      " '145' '147' '146' '160' '306' '139' '151' '161' '136' '320' '193' '140'\n",
      " '135' '153' '126' '129' '276' '197' '202' '186' '155' '252' '183' '171'\n",
      " '217' '169' '158' '120' '203' '184' '321' '199' '152' '298' '211' '316'\n",
      " '177' '116' '149' '270' '170' '5' '282' '300' '143' '317' '121' '215'\n",
      " '196' '206' '250' '277' '242' '284' '141' '216' '122' '192' '144' '182'\n",
      " '293' '294' '1840' '194' '173' '244' '307' '313' '258' '1929' '260' '165'\n",
      " '237' '162' '292' '327' '200' '221' '130' '278' '212' '188' '1951' '185'\n",
      " '230' '231' '269' '266' '240' '178' '323' '265' '115' '180' '279' '262'\n",
      " '246' '209' '254' '322' '232' '290' '189' '214' '207' '263' '137' '304'\n",
      " '223' '226' '119' '256' '328' '1817' '133' '235' '164' '1877' '210'\n",
      " '1917' '138' '25' '201' '132' '220' '234' '245' '310' '273' '261' '289'\n",
      " '248' '1958' '288' '267' '239' '305' '281' '236' '314' '1963' '291' '247'\n",
      " '191' '228' '274' '114' '302' '271' '1865' '319' '222' '195' '280' '272'\n",
      " '268' '111' '286' '227' '213' '312' '285' '303' '229' '219' '257' '204'\n",
      " '296' '308' '264' '287' '241' '253' '1961' '1916' '1967' '1925' '1813'\n",
      " '299' '326' '1971' '112' '283' '113' '1908' '259' '224' '311' '1978'\n",
      " '243' '1896' '318' '315' '1979' '1965' '233' '118' '325' '1894' '1955'\n",
      " '1803' '249' '117' '275' '1991' '1843' '1833' '4' '1800' '329' '309'\n",
      " '1944' '1839' '1869' '0' '1914' '1907' '1934' '331' '324' '28' '1880' '2'\n",
      " '1954' '1941' '251' '1918' '1919' '1878' '1850' '1824' '3' '1911' '1844'\n",
      " '1882' '1862' '30' '1937' '1923' '1879' '1807' '1957' '1835' '1943'\n",
      " '1982' '37' '1964' '1984' '1838' '41' '1866' '81' '1913' '1804' '255'\n",
      " '56' '1888' '1895' '1912' '1921' '1853' '1945' '1972' '1858' '1928'\n",
      " '1953' '57']\n",
      "Login_device: ['Mobile' 'Computer' 'Unknown']\n"
     ]
    }
   ],
   "source": [
    "for column in customers.columns: \n",
    "    print(f'{column}: {customers[column].unique()}')"
   ]
  },
  {
   "cell_type": "code",
   "execution_count": 54,
   "metadata": {},
   "outputs": [
    {
     "data": {
      "text/plain": [
       "Tenure                     object\n",
       "City_Tier                  object\n",
       "CC_Contacted_LY            object\n",
       "Payment                    object\n",
       "Gender                     object\n",
       "Service_Score              object\n",
       "Account_user_count         object\n",
       "account_segment            object\n",
       "CC_Agent_Score             object\n",
       "Marital_Status             object\n",
       "rev_per_month              object\n",
       "Complain_ly                object\n",
       "rev_growth_yoy             object\n",
       "coupon_used_for_payment    object\n",
       "Day_Since_CC_connect       object\n",
       "cashback                   object\n",
       "Login_device               object\n",
       "dtype: object"
      ]
     },
     "execution_count": 54,
     "metadata": {},
     "output_type": "execute_result"
    }
   ],
   "source": [
    "customers.dtypes"
   ]
  },
  {
   "cell_type": "code",
   "execution_count": 55,
   "metadata": {},
   "outputs": [],
   "source": [
    "to_numeric_cols = ['Tenure', 'CC_Contacted_LY', 'Service_Score', 'Account_user_count','CC_Agent_Score', 'rev_per_month', 'Complain_ly','rev_growth_yoy', 'coupon_used_for_payment', 'Day_Since_CC_connect','cashback']"
   ]
  },
  {
   "cell_type": "code",
   "execution_count": 56,
   "metadata": {},
   "outputs": [],
   "source": [
    "for col in to_numeric_cols:\n",
    "    customers[col] = pd.to_numeric(customers[col])"
   ]
  },
  {
   "cell_type": "code",
   "execution_count": 57,
   "metadata": {},
   "outputs": [
    {
     "data": {
      "text/plain": [
       "Tenure                       int64\n",
       "City_Tier                   object\n",
       "CC_Contacted_LY            float64\n",
       "Payment                     object\n",
       "Gender                      object\n",
       "Service_Score              float64\n",
       "Account_user_count           int64\n",
       "account_segment             object\n",
       "CC_Agent_Score             float64\n",
       "Marital_Status              object\n",
       "rev_per_month                int64\n",
       "Complain_ly                float64\n",
       "rev_growth_yoy               int64\n",
       "coupon_used_for_payment      int64\n",
       "Day_Since_CC_connect         int64\n",
       "cashback                     int64\n",
       "Login_device                object\n",
       "dtype: object"
      ]
     },
     "execution_count": 57,
     "metadata": {},
     "output_type": "execute_result"
    }
   ],
   "source": [
    "customers.dtypes"
   ]
  },
  {
   "cell_type": "markdown",
   "metadata": {},
   "source": [
    "5. One-hot encoding"
   ]
  },
  {
   "cell_type": "code",
   "execution_count": 58,
   "metadata": {},
   "outputs": [],
   "source": [
    "to_categorical_cols = ['Payment', 'City_Tier', 'Gender', 'account_segment', 'Marital_Status', 'Login_device']"
   ]
  },
  {
   "cell_type": "code",
   "execution_count": 59,
   "metadata": {},
   "outputs": [
    {
     "name": "stderr",
     "output_type": "stream",
     "text": [
      "C:\\Users\\daman\\AppData\\Local\\Temp\\ipykernel_6496\\1033039022.py:1: FutureWarning: In a future version, the Index constructor will not infer numeric dtypes when passed object-dtype sequences (matching Series behavior)\n",
      "  customers = pd.get_dummies(customers, prefix=to_categorical_cols)\n"
     ]
    }
   ],
   "source": [
    "customers = pd.get_dummies(customers, prefix=to_categorical_cols)"
   ]
  },
  {
   "cell_type": "code",
   "execution_count": 60,
   "metadata": {},
   "outputs": [
    {
     "data": {
      "text/html": [
       "<div>\n",
       "<style scoped>\n",
       "    .dataframe tbody tr th:only-of-type {\n",
       "        vertical-align: middle;\n",
       "    }\n",
       "\n",
       "    .dataframe tbody tr th {\n",
       "        vertical-align: top;\n",
       "    }\n",
       "\n",
       "    .dataframe thead th {\n",
       "        text-align: right;\n",
       "    }\n",
       "</style>\n",
       "<table border=\"1\" class=\"dataframe\">\n",
       "  <thead>\n",
       "    <tr style=\"text-align: right;\">\n",
       "      <th></th>\n",
       "      <th>Tenure</th>\n",
       "      <th>CC_Contacted_LY</th>\n",
       "      <th>Service_Score</th>\n",
       "      <th>Account_user_count</th>\n",
       "      <th>CC_Agent_Score</th>\n",
       "      <th>rev_per_month</th>\n",
       "      <th>Complain_ly</th>\n",
       "      <th>rev_growth_yoy</th>\n",
       "      <th>coupon_used_for_payment</th>\n",
       "      <th>Day_Since_CC_connect</th>\n",
       "      <th>...</th>\n",
       "      <th>account_segment_Regular</th>\n",
       "      <th>account_segment_Regular Plus</th>\n",
       "      <th>account_segment_Super</th>\n",
       "      <th>account_segment_Super Plus</th>\n",
       "      <th>Marital_Status_Divorced</th>\n",
       "      <th>Marital_Status_Married</th>\n",
       "      <th>Marital_Status_Single</th>\n",
       "      <th>Login_device_Computer</th>\n",
       "      <th>Login_device_Mobile</th>\n",
       "      <th>Login_device_Unknown</th>\n",
       "    </tr>\n",
       "  </thead>\n",
       "  <tbody>\n",
       "    <tr>\n",
       "      <th>0</th>\n",
       "      <td>4</td>\n",
       "      <td>11.0</td>\n",
       "      <td>3.0</td>\n",
       "      <td>6</td>\n",
       "      <td>1.0</td>\n",
       "      <td>5</td>\n",
       "      <td>0.0</td>\n",
       "      <td>23</td>\n",
       "      <td>2</td>\n",
       "      <td>3</td>\n",
       "      <td>...</td>\n",
       "      <td>0</td>\n",
       "      <td>0</td>\n",
       "      <td>1</td>\n",
       "      <td>0</td>\n",
       "      <td>0</td>\n",
       "      <td>0</td>\n",
       "      <td>1</td>\n",
       "      <td>0</td>\n",
       "      <td>1</td>\n",
       "      <td>0</td>\n",
       "    </tr>\n",
       "    <tr>\n",
       "      <th>1</th>\n",
       "      <td>16</td>\n",
       "      <td>18.0</td>\n",
       "      <td>3.0</td>\n",
       "      <td>4</td>\n",
       "      <td>5.0</td>\n",
       "      <td>11</td>\n",
       "      <td>0.0</td>\n",
       "      <td>16</td>\n",
       "      <td>2</td>\n",
       "      <td>6</td>\n",
       "      <td>...</td>\n",
       "      <td>0</td>\n",
       "      <td>0</td>\n",
       "      <td>1</td>\n",
       "      <td>0</td>\n",
       "      <td>0</td>\n",
       "      <td>1</td>\n",
       "      <td>0</td>\n",
       "      <td>0</td>\n",
       "      <td>1</td>\n",
       "      <td>0</td>\n",
       "    </tr>\n",
       "    <tr>\n",
       "      <th>2</th>\n",
       "      <td>1</td>\n",
       "      <td>9.0</td>\n",
       "      <td>4.0</td>\n",
       "      <td>2</td>\n",
       "      <td>5.0</td>\n",
       "      <td>9</td>\n",
       "      <td>0.0</td>\n",
       "      <td>14</td>\n",
       "      <td>1</td>\n",
       "      <td>2</td>\n",
       "      <td>...</td>\n",
       "      <td>0</td>\n",
       "      <td>1</td>\n",
       "      <td>0</td>\n",
       "      <td>0</td>\n",
       "      <td>0</td>\n",
       "      <td>0</td>\n",
       "      <td>1</td>\n",
       "      <td>0</td>\n",
       "      <td>1</td>\n",
       "      <td>0</td>\n",
       "    </tr>\n",
       "    <tr>\n",
       "      <th>3</th>\n",
       "      <td>7</td>\n",
       "      <td>13.0</td>\n",
       "      <td>2.0</td>\n",
       "      <td>3</td>\n",
       "      <td>3.0</td>\n",
       "      <td>1</td>\n",
       "      <td>1.0</td>\n",
       "      <td>25</td>\n",
       "      <td>3</td>\n",
       "      <td>7</td>\n",
       "      <td>...</td>\n",
       "      <td>0</td>\n",
       "      <td>1</td>\n",
       "      <td>0</td>\n",
       "      <td>0</td>\n",
       "      <td>0</td>\n",
       "      <td>1</td>\n",
       "      <td>0</td>\n",
       "      <td>0</td>\n",
       "      <td>1</td>\n",
       "      <td>0</td>\n",
       "    </tr>\n",
       "    <tr>\n",
       "      <th>4</th>\n",
       "      <td>4</td>\n",
       "      <td>21.0</td>\n",
       "      <td>2.0</td>\n",
       "      <td>3</td>\n",
       "      <td>2.0</td>\n",
       "      <td>4</td>\n",
       "      <td>1.0</td>\n",
       "      <td>19</td>\n",
       "      <td>1</td>\n",
       "      <td>2</td>\n",
       "      <td>...</td>\n",
       "      <td>0</td>\n",
       "      <td>1</td>\n",
       "      <td>0</td>\n",
       "      <td>0</td>\n",
       "      <td>1</td>\n",
       "      <td>0</td>\n",
       "      <td>0</td>\n",
       "      <td>0</td>\n",
       "      <td>1</td>\n",
       "      <td>0</td>\n",
       "    </tr>\n",
       "  </tbody>\n",
       "</table>\n",
       "<p>5 rows × 32 columns</p>\n",
       "</div>"
      ],
      "text/plain": [
       "   Tenure  CC_Contacted_LY  Service_Score  Account_user_count  CC_Agent_Score  \\\n",
       "0       4             11.0            3.0                   6             1.0   \n",
       "1      16             18.0            3.0                   4             5.0   \n",
       "2       1              9.0            4.0                   2             5.0   \n",
       "3       7             13.0            2.0                   3             3.0   \n",
       "4       4             21.0            2.0                   3             2.0   \n",
       "\n",
       "   rev_per_month  Complain_ly  rev_growth_yoy  coupon_used_for_payment  \\\n",
       "0              5          0.0              23                        2   \n",
       "1             11          0.0              16                        2   \n",
       "2              9          0.0              14                        1   \n",
       "3              1          1.0              25                        3   \n",
       "4              4          1.0              19                        1   \n",
       "\n",
       "   Day_Since_CC_connect  ...  account_segment_Regular  \\\n",
       "0                     3  ...                        0   \n",
       "1                     6  ...                        0   \n",
       "2                     2  ...                        0   \n",
       "3                     7  ...                        0   \n",
       "4                     2  ...                        0   \n",
       "\n",
       "   account_segment_Regular Plus  account_segment_Super  \\\n",
       "0                             0                      1   \n",
       "1                             0                      1   \n",
       "2                             1                      0   \n",
       "3                             1                      0   \n",
       "4                             1                      0   \n",
       "\n",
       "   account_segment_Super Plus  Marital_Status_Divorced  \\\n",
       "0                           0                        0   \n",
       "1                           0                        0   \n",
       "2                           0                        0   \n",
       "3                           0                        0   \n",
       "4                           0                        1   \n",
       "\n",
       "   Marital_Status_Married  Marital_Status_Single  Login_device_Computer  \\\n",
       "0                       0                      1                      0   \n",
       "1                       1                      0                      0   \n",
       "2                       0                      1                      0   \n",
       "3                       1                      0                      0   \n",
       "4                       0                      0                      0   \n",
       "\n",
       "   Login_device_Mobile  Login_device_Unknown  \n",
       "0                    1                     0  \n",
       "1                    1                     0  \n",
       "2                    1                     0  \n",
       "3                    1                     0  \n",
       "4                    1                     0  \n",
       "\n",
       "[5 rows x 32 columns]"
      ]
     },
     "execution_count": 60,
     "metadata": {},
     "output_type": "execute_result"
    }
   ],
   "source": [
    "customers.head()"
   ]
  },
  {
   "cell_type": "code",
   "execution_count": 61,
   "metadata": {},
   "outputs": [],
   "source": [
    "customers_train, customers_val, labels_train, labels_val = train_test_split(customers, labels, test_size= 0.2, random_state=42, stratify=labels)"
   ]
  },
  {
   "cell_type": "markdown",
   "metadata": {},
   "source": [
    "6. Train model"
   ]
  },
  {
   "cell_type": "code",
   "execution_count": 62,
   "metadata": {},
   "outputs": [],
   "source": [
    "from sklearn.tree import DecisionTreeClassifier"
   ]
  },
  {
   "cell_type": "code",
   "execution_count": 63,
   "metadata": {},
   "outputs": [
    {
     "data": {
      "text/html": [
       "<style>#sk-container-id-2 {color: black;background-color: white;}#sk-container-id-2 pre{padding: 0;}#sk-container-id-2 div.sk-toggleable {background-color: white;}#sk-container-id-2 label.sk-toggleable__label {cursor: pointer;display: block;width: 100%;margin-bottom: 0;padding: 0.3em;box-sizing: border-box;text-align: center;}#sk-container-id-2 label.sk-toggleable__label-arrow:before {content: \"▸\";float: left;margin-right: 0.25em;color: #696969;}#sk-container-id-2 label.sk-toggleable__label-arrow:hover:before {color: black;}#sk-container-id-2 div.sk-estimator:hover label.sk-toggleable__label-arrow:before {color: black;}#sk-container-id-2 div.sk-toggleable__content {max-height: 0;max-width: 0;overflow: hidden;text-align: left;background-color: #f0f8ff;}#sk-container-id-2 div.sk-toggleable__content pre {margin: 0.2em;color: black;border-radius: 0.25em;background-color: #f0f8ff;}#sk-container-id-2 input.sk-toggleable__control:checked~div.sk-toggleable__content {max-height: 200px;max-width: 100%;overflow: auto;}#sk-container-id-2 input.sk-toggleable__control:checked~label.sk-toggleable__label-arrow:before {content: \"▾\";}#sk-container-id-2 div.sk-estimator input.sk-toggleable__control:checked~label.sk-toggleable__label {background-color: #d4ebff;}#sk-container-id-2 div.sk-label input.sk-toggleable__control:checked~label.sk-toggleable__label {background-color: #d4ebff;}#sk-container-id-2 input.sk-hidden--visually {border: 0;clip: rect(1px 1px 1px 1px);clip: rect(1px, 1px, 1px, 1px);height: 1px;margin: -1px;overflow: hidden;padding: 0;position: absolute;width: 1px;}#sk-container-id-2 div.sk-estimator {font-family: monospace;background-color: #f0f8ff;border: 1px dotted black;border-radius: 0.25em;box-sizing: border-box;margin-bottom: 0.5em;}#sk-container-id-2 div.sk-estimator:hover {background-color: #d4ebff;}#sk-container-id-2 div.sk-parallel-item::after {content: \"\";width: 100%;border-bottom: 1px solid gray;flex-grow: 1;}#sk-container-id-2 div.sk-label:hover label.sk-toggleable__label {background-color: #d4ebff;}#sk-container-id-2 div.sk-serial::before {content: \"\";position: absolute;border-left: 1px solid gray;box-sizing: border-box;top: 0;bottom: 0;left: 50%;z-index: 0;}#sk-container-id-2 div.sk-serial {display: flex;flex-direction: column;align-items: center;background-color: white;padding-right: 0.2em;padding-left: 0.2em;position: relative;}#sk-container-id-2 div.sk-item {position: relative;z-index: 1;}#sk-container-id-2 div.sk-parallel {display: flex;align-items: stretch;justify-content: center;background-color: white;position: relative;}#sk-container-id-2 div.sk-item::before, #sk-container-id-2 div.sk-parallel-item::before {content: \"\";position: absolute;border-left: 1px solid gray;box-sizing: border-box;top: 0;bottom: 0;left: 50%;z-index: -1;}#sk-container-id-2 div.sk-parallel-item {display: flex;flex-direction: column;z-index: 1;position: relative;background-color: white;}#sk-container-id-2 div.sk-parallel-item:first-child::after {align-self: flex-end;width: 50%;}#sk-container-id-2 div.sk-parallel-item:last-child::after {align-self: flex-start;width: 50%;}#sk-container-id-2 div.sk-parallel-item:only-child::after {width: 0;}#sk-container-id-2 div.sk-dashed-wrapped {border: 1px dashed gray;margin: 0 0.4em 0.5em 0.4em;box-sizing: border-box;padding-bottom: 0.4em;background-color: white;}#sk-container-id-2 div.sk-label label {font-family: monospace;font-weight: bold;display: inline-block;line-height: 1.2em;}#sk-container-id-2 div.sk-label-container {text-align: center;}#sk-container-id-2 div.sk-container {/* jupyter's `normalize.less` sets `[hidden] { display: none; }` but bootstrap.min.css set `[hidden] { display: none !important; }` so we also need the `!important` here to be able to override the default hidden behavior on the sphinx rendered scikit-learn.org. See: https://github.com/scikit-learn/scikit-learn/issues/21755 */display: inline-block !important;position: relative;}#sk-container-id-2 div.sk-text-repr-fallback {display: none;}</style><div id=\"sk-container-id-2\" class=\"sk-top-container\"><div class=\"sk-text-repr-fallback\"><pre>DecisionTreeClassifier()</pre><b>In a Jupyter environment, please rerun this cell to show the HTML representation or trust the notebook. <br />On GitHub, the HTML representation is unable to render, please try loading this page with nbviewer.org.</b></div><div class=\"sk-container\" hidden><div class=\"sk-item\"><div class=\"sk-estimator sk-toggleable\"><input class=\"sk-toggleable__control sk-hidden--visually\" id=\"sk-estimator-id-2\" type=\"checkbox\" checked><label for=\"sk-estimator-id-2\" class=\"sk-toggleable__label sk-toggleable__label-arrow\">DecisionTreeClassifier</label><div class=\"sk-toggleable__content\"><pre>DecisionTreeClassifier()</pre></div></div></div></div></div>"
      ],
      "text/plain": [
       "DecisionTreeClassifier()"
      ]
     },
     "execution_count": 63,
     "metadata": {},
     "output_type": "execute_result"
    }
   ],
   "source": [
    "decision_tree_model = DecisionTreeClassifier()\n",
    "decision_tree_model.fit(customers_train, labels_train)\n"
   ]
  },
  {
   "cell_type": "code",
   "execution_count": 64,
   "metadata": {},
   "outputs": [],
   "source": [
    "pred_train = decision_tree_model.predict(customers_train)\n",
    "pred_val = decision_tree_model.predict(customers_val)\n"
   ]
  },
  {
   "cell_type": "code",
   "execution_count": 65,
   "metadata": {},
   "outputs": [
    {
     "name": "stdout",
     "output_type": "stream",
     "text": [
      "Accuracy 0.9483906770255272\n",
      "Precision 0.8365384615384616\n",
      "Recall 0.8613861386138614\n",
      "F1 0.848780487804878\n"
     ]
    }
   ],
   "source": [
    "from sklearn.metrics import recall_score, accuracy_score, precision_score, f1_score\n",
    "print(\"Accuracy\", accuracy_score(labels_val, pred_val))\n",
    "print(\"Precision\", precision_score(labels_val, pred_val))\n",
    "print(\"Recall\", recall_score(labels_val, pred_val))\n",
    "print(\"F1\", f1_score(labels_val, pred_val))"
   ]
  }
 ],
 "metadata": {
  "kernelspec": {
   "display_name": "Python 3.9.13 64-bit (microsoft store)",
   "language": "python",
   "name": "python3"
  },
  "language_info": {
   "codemirror_mode": {
    "name": "ipython",
    "version": 3
   },
   "file_extension": ".py",
   "mimetype": "text/x-python",
   "name": "python",
   "nbconvert_exporter": "python",
   "pygments_lexer": "ipython3",
   "version": "3.9.13"
  },
  "orig_nbformat": 4,
  "vscode": {
   "interpreter": {
    "hash": "a38ed6e5e888fe817b93ac02723f0eef04569b06fa2a91ca7e3d5e390014e359"
   }
  }
 },
 "nbformat": 4,
 "nbformat_minor": 2
}
