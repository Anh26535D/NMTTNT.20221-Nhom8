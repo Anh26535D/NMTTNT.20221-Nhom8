{
 "cells": [
  {
   "cell_type": "code",
   "execution_count": 69,
   "metadata": {},
   "outputs": [],
   "source": [
    "from Datapipeline import Datapipeline, print_score, value_treatment\n",
    "import pandas as pd"
   ]
  },
  {
   "cell_type": "code",
   "execution_count": 70,
   "metadata": {},
   "outputs": [
    {
     "name": "stdout",
     "output_type": "stream",
     "text": [
      "---------------------------------------\n",
      "Accuracy 1.0\n",
      "Precision 1.0\n",
      "Recall 1.0\n",
      "F1 1.0\n",
      "---------------------------------------\n",
      "Accuracy 0.9445061043285239\n",
      "Precision 0.8242811501597445\n",
      "Recall 0.8514851485148515\n",
      "F1 0.8376623376623376\n"
     ]
    }
   ],
   "source": [
    "df = pd.read_csv('../train.csv')\n",
    "pl = Datapipeline(df)"
   ]
  },
  {
   "cell_type": "code",
   "execution_count": 71,
   "metadata": {},
   "outputs": [],
   "source": [
    "df_test = pd.read_csv('../test.csv')\n",
    "customers_test = df_test.drop(\"AccountID\", axis='columns')\n",
    "labels_test = customers_test['Churn']\n",
    "customers_test = customers_test.drop('Churn', axis='columns')\n",
    "customers_test = value_treatment(customers_test)\n",
    "pred_test = pl.predict(customers_test)"
   ]
  },
  {
   "cell_type": "code",
   "execution_count": 72,
   "metadata": {},
   "outputs": [
    {
     "name": "stdout",
     "output_type": "stream",
     "text": [
      "Accuracy 0.9484902309058615\n",
      "Precision 0.8397932816537468\n",
      "Recall 0.8575197889182058\n",
      "F1 0.8485639686684073\n"
     ]
    }
   ],
   "source": [
    "print_score(labels_test, pred_test)"
   ]
  }
 ],
 "metadata": {
  "kernelspec": {
   "display_name": "Python 3",
   "language": "python",
   "name": "python3"
  },
  "language_info": {
   "codemirror_mode": {
    "name": "ipython",
    "version": 3
   },
   "file_extension": ".py",
   "mimetype": "text/x-python",
   "name": "python",
   "nbconvert_exporter": "python",
   "pygments_lexer": "ipython3",
   "version": "3.9.13"
  },
  "orig_nbformat": 4,
  "vscode": {
   "interpreter": {
    "hash": "a38ed6e5e888fe817b93ac02723f0eef04569b06fa2a91ca7e3d5e390014e359"
   }
  }
 },
 "nbformat": 4,
 "nbformat_minor": 2
}
